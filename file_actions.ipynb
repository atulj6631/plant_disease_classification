{
 "cells": [
  {
   "cell_type": "code",
   "execution_count": null,
   "metadata": {},
   "outputs": [],
   "source": [
    "# Download a file based on its file ID.\n",
    "# file_id = '18DbC6Xj4NP-hLzI14WuMaAEyq482vNfn'\n",
    "\n",
    "# # Download the plant village dataset\n",
    "# !gdown https://drive.google.com/uc?id={file_id}\n",
    "\n",
    "# Unzip the downloaded file\n",
    "# unzip -q PlantVillage.zip"
   ]
  },
  {
   "cell_type": "code",
   "execution_count": 4,
   "metadata": {},
   "outputs": [],
   "source": [
    "import os\n",
    "\n",
    "root_dir = './PlantVillage'\n",
    "\n",
    "train_dir_src = os.path.join(root_dir, 'train') # path to training dataset after extracting\n",
    "val_dir_src = os.path.join(root_dir, 'val') # path to validation dataset after extracting"
   ]
  },
  {
   "cell_type": "code",
   "execution_count": 8,
   "metadata": {},
   "outputs": [],
   "source": [
    "import shutil\n",
    "shutil.rmtree(os.path.join(train_dir_src, \"background\"))\n",
    "shutil.rmtree(os.path.join(val_dir_src, \"background\"))"
   ]
  },
  {
   "cell_type": "code",
   "execution_count": null,
   "metadata": {},
   "outputs": [],
   "source": [
    "\n",
    "\n",
    "test_dir = os.path.join(root_dir, 'test') # creating folder 'data' and dumping all images into it\n",
    "os.mkdir(test_dir)\n",
    "\n",
    "try:\n",
    "    print(\"[INFO] Loading images ...\")\n",
    "    plant_disease_folder_list = os.listdir(val_dir_src)\n",
    "\n",
    "    for plant_disease_folder in plant_disease_folder_list:\n",
    "        if 'background' in plant_disease_folder:\n",
    "            continue\n",
    "        print(f\"[INFO] Processing {plant_disease_folder} ...\")\n",
    "        plant_disease_image_list = os.listdir(f\"{val_dir_src}/{plant_disease_folder}/\")\n",
    "        plant_disease_test_folder = os.path.join(test_dir, f'{plant_disease_folder}')\n",
    "        os.mkdir(plant_disease_test_folder)\n",
    "        count_in_folder = 0\n",
    "        for image in plant_disease_image_list:\n",
    "\n",
    "            image_directory = f\"{val_dir_src}/{plant_disease_folder}/{image}\"\n",
    "            if image_directory.endswith(\".jpg\")==True or image_directory.endswith(\".JPG\")==True:\n",
    "                count_in_folder+=1\n",
    "                if count_in_folder < len(plant_disease_image_list)/2:\n",
    "                    shutil.move(image_directory, f\"{test_dir}/{plant_disease_folder}/{image}\")\n",
    "\n",
    "    print(\"[INFO] test Image loading completed\")\n",
    "\n",
    "except Exception as e:\n",
    "    print(f\"Error : {e}\")"
   ]
  }
 ],
 "metadata": {
  "kernelspec": {
   "display_name": "Python 3.8.2 64-bit",
   "language": "python",
   "name": "python3"
  },
  "language_info": {
   "codemirror_mode": {
    "name": "ipython",
    "version": 3
   },
   "file_extension": ".py",
   "mimetype": "text/x-python",
   "name": "python",
   "nbconvert_exporter": "python",
   "pygments_lexer": "ipython3",
   "version": "3.8.2"
  },
  "orig_nbformat": 4,
  "vscode": {
   "interpreter": {
    "hash": "24e825efde00d83ae8956899d00353005a5e8e868b3ba791ab8b91de6cfd1652"
   }
  }
 },
 "nbformat": 4,
 "nbformat_minor": 2
}
